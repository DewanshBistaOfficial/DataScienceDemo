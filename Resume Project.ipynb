{
 "cells": [
  {
   "cell_type": "code",
   "execution_count": 1,
   "metadata": {
    "ExecuteTime": {
     "end_time": "2020-09-07T19:13:22.462082Z",
     "start_time": "2020-09-07T19:13:22.451141Z"
    }
   },
   "outputs": [],
   "source": [
    "#Resume Project"
   ]
  },
  {
   "cell_type": "code",
   "execution_count": 2,
   "metadata": {
    "ExecuteTime": {
     "end_time": "2020-09-07T19:13:22.987933Z",
     "start_time": "2020-09-07T19:13:22.464077Z"
    }
   },
   "outputs": [],
   "source": [
    "#Libraries\n",
    "import pandas as pd, requests, json,  os, math\n",
    "from pandas import DataFrame, Series"
   ]
  },
  {
   "cell_type": "code",
   "execution_count": 3,
   "metadata": {
    "ExecuteTime": {
     "end_time": "2020-09-07T19:13:23.002976Z",
     "start_time": "2020-09-07T19:13:22.990890Z"
    }
   },
   "outputs": [],
   "source": [
    "def download(filename, url):\n",
    "    # We do not download again if the file already exists\n",
    "    if os.path.exists(filename):\n",
    "        return (str(filename) + \" already exists!\")\n",
    "\n",
    "    # Download the file from URL and save it in `filename`\n",
    "    r = requests.get(url)\n",
    "    r.raise_for_status()\n",
    "    open(filename, 'wb').write(r.content)\n",
    "    \n",
    "    #Return verification message\n",
    "    return (str(filename) + \" created!\")"
   ]
  },
  {
   "cell_type": "code",
   "execution_count": 4,
   "metadata": {
    "ExecuteTime": {
     "end_time": "2020-09-07T19:13:23.050104Z",
     "start_time": "2020-09-07T19:13:23.004934Z"
    }
   },
   "outputs": [],
   "source": [
    "#Get countries\n",
    "download(\"countries.json\", \"https://raw.githubusercontent.com/DewanshBistaOfficial/DataScienceResumeProject/master/countries.json\")\n",
    "countries = pd.read_json('countries.json') \n",
    "\n",
    "#Get capitals\n",
    "download(\"capitals.json\", \"https://raw.githubusercontent.com/DewanshBistaOfficial/DataScienceResumeProject/master/capitals.json\")\n",
    "capitals = pd.read_json('capitals.json') "
   ]
  },
  {
   "cell_type": "code",
   "execution_count": 5,
   "metadata": {
    "ExecuteTime": {
     "end_time": "2020-09-07T19:13:23.066065Z",
     "start_time": "2020-09-07T19:13:23.051106Z"
    }
   },
   "outputs": [
    {
     "data": {
      "text/plain": [
       "174"
      ]
     },
     "execution_count": 5,
     "metadata": {},
     "output_type": "execute_result"
    }
   ],
   "source": [
    "#q1: How many countries do we have in our dataset?\n",
    "countries[\"country\"].size"
   ]
  },
  {
   "cell_type": "code",
   "execution_count": 6,
   "metadata": {
    "ExecuteTime": {
     "end_time": "2020-09-07T19:13:23.081026Z",
     "start_time": "2020-09-07T19:13:23.067062Z"
    }
   },
   "outputs": [
    {
     "data": {
      "text/plain": [
       "6261901793"
      ]
     },
     "execution_count": 6,
     "metadata": {},
     "output_type": "execute_result"
    }
   ],
   "source": [
    "#q2: what is the total population across all the countries in our dataset?\n",
    "countries[\"population\"].sum()"
   ]
  },
  {
   "cell_type": "code",
   "execution_count": 7,
   "metadata": {
    "ExecuteTime": {
     "end_time": "2020-09-07T19:13:23.096032Z",
     "start_time": "2020-09-07T19:13:23.082024Z"
    }
   },
   "outputs": [
    {
     "data": {
      "text/plain": [
       "['Abu Dhabi',\n",
       " 'Abuja',\n",
       " 'Accra',\n",
       " 'Addis Ababa',\n",
       " 'Algiers',\n",
       " 'Amman',\n",
       " 'Amsterdam',\n",
       " 'Ankara',\n",
       " 'Antananarivo',\n",
       " 'Apia',\n",
       " 'Ashgabat',\n",
       " 'Asmara',\n",
       " 'Astana',\n",
       " 'Asuncion',\n",
       " 'Athens',\n",
       " 'Baghdad',\n",
       " 'Baku',\n",
       " 'Bamako',\n",
       " 'Bangkok',\n",
       " 'Beijing',\n",
       " 'Beirut',\n",
       " 'Belmopan',\n",
       " 'Berlin',\n",
       " 'Bern',\n",
       " 'Bishkek',\n",
       " 'Bissau',\n",
       " 'Bogota',\n",
       " 'Brasilia',\n",
       " 'Bridgetown',\n",
       " 'Brussels',\n",
       " 'Bucharest',\n",
       " 'Budapest',\n",
       " 'Buenos Aires',\n",
       " 'Bujumbura',\n",
       " 'Cairo',\n",
       " 'Canberra',\n",
       " 'Caracas',\n",
       " 'Castries',\n",
       " 'Chisinau',\n",
       " 'Colombo',\n",
       " 'Conakry',\n",
       " 'Copenhagen',\n",
       " 'Dakar',\n",
       " 'Damascus',\n",
       " 'Dar es Salaam',\n",
       " 'Dhaka',\n",
       " 'Djibouti',\n",
       " 'Doha',\n",
       " 'Dublin',\n",
       " 'Dushanbe',\n",
       " 'Freetown',\n",
       " 'Gaborone',\n",
       " 'George Town',\n",
       " 'Georgetown',\n",
       " 'Guatemala City',\n",
       " 'Hagatna',\n",
       " 'Hamilton',\n",
       " 'Hanoi',\n",
       " 'Harare',\n",
       " 'Havana',\n",
       " 'Helsinki',\n",
       " 'Islamabad',\n",
       " 'Jakarta',\n",
       " 'Jamestown',\n",
       " 'Jerusalem',\n",
       " 'Kabul',\n",
       " 'Kampala',\n",
       " 'Kathmandu',\n",
       " 'Khartoum',\n",
       " 'Kigali',\n",
       " 'Kingston',\n",
       " 'Kingstown',\n",
       " 'Kuala Lumpur',\n",
       " 'Kuwait City',\n",
       " 'Kyiv',\n",
       " 'La Paz',\n",
       " 'Libreville',\n",
       " 'Lilongwe',\n",
       " 'Lima',\n",
       " 'Lisbon',\n",
       " 'Ljubljana',\n",
       " 'Lome',\n",
       " 'London',\n",
       " 'Lusaka',\n",
       " 'Luxembourg',\n",
       " 'Madrid',\n",
       " 'Majuro',\n",
       " 'Malabo',\n",
       " 'Male',\n",
       " 'Managua',\n",
       " 'Manama',\n",
       " 'Manila',\n",
       " 'Maputo',\n",
       " 'Maseru',\n",
       " 'Mbabane',\n",
       " 'Melekeok',\n",
       " 'Mexico City',\n",
       " 'Minsk',\n",
       " 'Mogadishu',\n",
       " 'Monaco',\n",
       " 'Monrovia',\n",
       " 'Montevideo',\n",
       " 'Moroni',\n",
       " 'Moscow',\n",
       " 'Muscat',\n",
       " 'Nairobi',\n",
       " 'New Delhi',\n",
       " 'Niamey',\n",
       " 'Nouakchott',\n",
       " 'Noumea',\n",
       " 'Nuku’alofa',\n",
       " 'N’Djamena',\n",
       " 'Oranjestad',\n",
       " 'Oslo',\n",
       " 'Ottawa',\n",
       " 'Ouagadougou',\n",
       " 'Panama City',\n",
       " 'Papeete',\n",
       " 'Paramaribo',\n",
       " 'Paris',\n",
       " 'Phnom Penh',\n",
       " 'Port Louis',\n",
       " 'Port Moresby',\n",
       " 'Port-Vila',\n",
       " 'Port-au-Prince',\n",
       " 'Porto-Novo',\n",
       " 'Prague',\n",
       " 'Praia',\n",
       " 'Pretoria',\n",
       " 'Quito',\n",
       " 'Rabat',\n",
       " 'Reykjavik',\n",
       " 'Riga',\n",
       " 'Riyadh',\n",
       " 'Rome',\n",
       " 'Roseau',\n",
       " 'Saint George’s',\n",
       " 'San Jose',\n",
       " 'San Juan',\n",
       " 'San Marino',\n",
       " 'San Salvador',\n",
       " 'Sanaa',\n",
       " 'Santiago',\n",
       " 'Santo Domingo',\n",
       " 'Singapore',\n",
       " 'Sofia',\n",
       " 'Stockholm',\n",
       " 'Suva',\n",
       " 'Taipei',\n",
       " 'Tallinn',\n",
       " 'Tashkent',\n",
       " 'Tbilisi',\n",
       " 'Tegucigalpa',\n",
       " 'Tehran',\n",
       " 'The Valley',\n",
       " 'Thimphu',\n",
       " 'Tirana',\n",
       " 'Tokyo',\n",
       " 'Tripoli',\n",
       " 'Tunis',\n",
       " 'Ulaanbaatar',\n",
       " 'Vaduz',\n",
       " 'Valletta',\n",
       " 'Victoria',\n",
       " 'Vienna',\n",
       " 'Vientiane',\n",
       " 'Vilnius',\n",
       " 'Warsaw',\n",
       " 'Washington, D.C.',\n",
       " 'Wellington',\n",
       " 'Windhoek',\n",
       " 'Yaounde',\n",
       " 'Yerevan',\n",
       " 'Zagreb']"
      ]
     },
     "execution_count": 7,
     "metadata": {},
     "output_type": "execute_result"
    }
   ],
   "source": [
    "#q3: What are the capital names in capitals.json?\n",
    "capital_list = sorted(capitals[\"capital\"].to_list())\n",
    "capital_list"
   ]
  },
  {
   "cell_type": "code",
   "execution_count": 8,
   "metadata": {
    "ExecuteTime": {
     "end_time": "2020-09-07T19:13:23.110986Z",
     "start_time": "2020-09-07T19:13:23.100010Z"
    }
   },
   "outputs": [],
   "source": [
    "#Gets the index of the indentity which is in the dataframe column typeof\n",
    "def get_index(identity, typeof):\n",
    "    s = capitals[typeof]\n",
    "    a_dict = s[s == identity].to_dict()\n",
    "    for number in a_dict:\n",
    "        index = number\n",
    "    return index"
   ]
  },
  {
   "cell_type": "code",
   "execution_count": 9,
   "metadata": {
    "ExecuteTime": {
     "end_time": "2020-09-07T19:13:23.125909Z",
     "start_time": "2020-09-07T19:13:23.112943Z"
    }
   },
   "outputs": [
    {
     "data": {
      "text/plain": [
       "'Rome'"
      ]
     },
     "execution_count": 9,
     "metadata": {},
     "output_type": "execute_result"
    }
   ],
   "source": [
    "#q4: What is the capital of Italy?\n",
    "\n",
    "#Get \"Italy\" index\n",
    "index = get_index(\"Italy\", \"country\")\n",
    "\n",
    "#Get capital using index\n",
    "capitals[\"capital\"].get(index)"
   ]
  },
  {
   "cell_type": "code",
   "execution_count": 10,
   "metadata": {
    "ExecuteTime": {
     "end_time": "2020-09-07T19:13:23.141908Z",
     "start_time": "2020-09-07T19:13:23.127902Z"
    }
   },
   "outputs": [
    {
     "data": {
      "text/plain": [
       "'Belgium'"
      ]
     },
     "execution_count": 10,
     "metadata": {},
     "output_type": "execute_result"
    }
   ],
   "source": [
    "#q5: Which country's capital is Brussels?\n",
    "#Get \"Brussels\" index\n",
    "index = get_index(\"Brussels\", \"capital\")\n",
    "\n",
    "#Get country using index\n",
    "capitals[\"country\"].get(index)"
   ]
  },
  {
   "cell_type": "code",
   "execution_count": 11,
   "metadata": {
    "ExecuteTime": {
     "end_time": "2020-09-07T19:13:23.157865Z",
     "start_time": "2020-09-07T19:13:23.143858Z"
    }
   },
   "outputs": [
    {
     "data": {
      "text/plain": [
       "['New Zealand',\n",
       " 'Australia',\n",
       " 'Uruguay',\n",
       " 'Argentina',\n",
       " 'Chile',\n",
       " 'Lesotho',\n",
       " 'Swaziland']"
      ]
     },
     "execution_count": 11,
     "metadata": {},
     "output_type": "execute_result"
    }
   ],
   "source": [
    "#q6: Which 7 countries have the southern-most capitals?\n",
    "temp_capitals = capitals\n",
    "temp_capitals = temp_capitals.sort_values(by=['latitude'])\n",
    "temp_capitals.head(7)[\"country\"].to_list()"
   ]
  },
  {
   "cell_type": "code",
   "execution_count": 12,
   "metadata": {
    "ExecuteTime": {
     "end_time": "2020-09-07T19:13:23.188739Z",
     "start_time": "2020-09-07T19:13:23.158872Z"
    }
   },
   "outputs": [
    {
     "data": {
      "text/plain": [
       "['Iceland',\n",
       " 'Finland',\n",
       " 'Norway',\n",
       " 'Estonia',\n",
       " 'Sweden',\n",
       " 'Latvia',\n",
       " 'Russia',\n",
       " 'Denmark',\n",
       " 'Lithuania',\n",
       " 'Belarus']"
      ]
     },
     "execution_count": 12,
     "metadata": {},
     "output_type": "execute_result"
    }
   ],
   "source": [
    "#q7: Which 10 countries have the capitals closest to the North Pole?\n",
    "#Gets list while making sure to preserve integrity of capitals\n",
    "temp_capitals = capitals\n",
    "temp_capitals = temp_capitals.sort_values(by=['latitude'])\n",
    "capital_list = temp_capitals.tail(10)[\"country\"].to_list()\n",
    "\n",
    "#Sorts list by closest\n",
    "sorted_list = list()\n",
    "for i in range(len(capital_list)):\n",
    "    sorted_list.append(capital_list[len(capital_list) - 1 - i])\n",
    "    \n",
    "sorted_list"
   ]
  },
  {
   "cell_type": "code",
   "execution_count": 13,
   "metadata": {
    "ExecuteTime": {
     "end_time": "2020-09-07T19:13:23.203699Z",
     "start_time": "2020-09-07T19:13:23.191733Z"
    }
   },
   "outputs": [],
   "source": [
    "#Calculates the distance between two areas using the Haversine formula\n",
    "def get_distance(lat1, lon1, lat2, lon2, radius):\n",
    "    #Change to radians\n",
    "    lat1 = lat1 * math.pi/180\n",
    "    lat2 = lat2 * math.pi/180\n",
    "    lon1 = lon1 * math.pi/180\n",
    "    lon2 = lon2 * math.pi/180    \n",
    "    \n",
    "    #Calculate distances\n",
    "    dlon = lon2 - lon1\n",
    "    dlat = lat2 - lat1\n",
    "    \n",
    "    #Haversine formula\n",
    "    a = (math.sin(dlat/2)**2) + (math.cos(lat1) * math.cos(lat2) * (math.sin(dlon/2) ** 2))\n",
    "    c = 2 * math.asin(min(1, math.sqrt(a)))\n",
    "    distance = radius * c\n",
    "    return distance"
   ]
  },
  {
   "cell_type": "code",
   "execution_count": 14,
   "metadata": {
    "ExecuteTime": {
     "end_time": "2020-09-07T19:13:23.219695Z",
     "start_time": "2020-09-07T19:13:23.206690Z"
    }
   },
   "outputs": [
    {
     "data": {
      "text/plain": [
       "1.4338994920742807"
      ]
     },
     "execution_count": 14,
     "metadata": {},
     "output_type": "execute_result"
    }
   ],
   "source": [
    "#q8: What is the distance between Camp Randall Stadium and the Wisconsin State Capital?\n",
    "#The latitude/longitude of Randall Stadium is 43.070231,-89.411893\n",
    "#The latitude/longitude of the Wisconsin Capital is 43.074645,-89.384113\n",
    "#The radius of the earth is 3956 miles\n",
    "earth_radius = 3956\n",
    "get_distance(43.070231,-89.411893, 43.074645, -89.384113, earth_radius)"
   ]
  },
  {
   "cell_type": "code",
   "execution_count": 15,
   "metadata": {
    "ExecuteTime": {
     "end_time": "2020-09-07T19:13:23.234615Z",
     "start_time": "2020-09-07T19:13:23.221657Z"
    }
   },
   "outputs": [],
   "source": [
    "#Gets the distance between two countries \n",
    "#(calculated by their capitals and the haversine forumla)\n",
    "def get_distance_country(country1, country2):\n",
    "    index1 = get_index(country1, \"country\") \n",
    "    index2 = get_index(country2, \"country\")\n",
    "    \n",
    "    #Get coordinates\n",
    "    lat1 = capitals[\"latitude\"].get(index1)\n",
    "    lon1 = capitals[\"longitude\"].get(index1)\n",
    "    lat2 = capitals[\"latitude\"].get(index2)\n",
    "    lon2 = capitals[\"longitude\"].get(index2)    \n",
    "    \n",
    "    #Replace 0 with NaN\n",
    "    result = get_distance(lat1, lon1, lat2, lon2, earth_radius)\n",
    "    if result == 0 :\n",
    "        result = float('nan')\n",
    "    return result"
   ]
  },
  {
   "cell_type": "code",
   "execution_count": 16,
   "metadata": {
    "ExecuteTime": {
     "end_time": "2020-09-07T19:13:23.249580Z",
     "start_time": "2020-09-07T19:13:23.235613Z"
    }
   },
   "outputs": [
    {
     "data": {
      "text/plain": [
       "520.8581822565823"
      ]
     },
     "execution_count": 16,
     "metadata": {},
     "output_type": "execute_result"
    }
   ],
   "source": [
    "#q9: What is the distance between Germany and Norway?\n",
    "get_distance_country('Germany', 'Norway')"
   ]
  },
  {
   "cell_type": "code",
   "execution_count": 17,
   "metadata": {
    "ExecuteTime": {
     "end_time": "2020-09-07T19:13:23.265534Z",
     "start_time": "2020-09-07T19:13:23.251572Z"
    }
   },
   "outputs": [],
   "source": [
    "def get_country_data_frame(countryList):\n",
    "    \n",
    "    #Gets a 2D Array (Cols) of country distances in the countryList\n",
    "    cols = list()\n",
    "    for country in countryList:\n",
    "        rows = list()\n",
    "        for country2 in countryList:\n",
    "            rows.append(get_distance_country(country, country2))\n",
    "        cols.append(rows)\n",
    "    \n",
    "    #Make a data frame and return\n",
    "    df = pd.DataFrame(cols, columns = countryList, index = countryList)\n",
    "    return df"
   ]
  },
  {
   "cell_type": "code",
   "execution_count": 18,
   "metadata": {
    "ExecuteTime": {
     "end_time": "2020-09-07T19:13:23.311445Z",
     "start_time": "2020-09-07T19:13:23.268525Z"
    }
   },
   "outputs": [
    {
     "data": {
      "text/html": [
       "<div>\n",
       "<style scoped>\n",
       "    .dataframe tbody tr th:only-of-type {\n",
       "        vertical-align: middle;\n",
       "    }\n",
       "\n",
       "    .dataframe tbody tr th {\n",
       "        vertical-align: top;\n",
       "    }\n",
       "\n",
       "    .dataframe thead th {\n",
       "        text-align: right;\n",
       "    }\n",
       "</style>\n",
       "<table border=\"1\" class=\"dataframe\">\n",
       "  <thead>\n",
       "    <tr style=\"text-align: right;\">\n",
       "      <th></th>\n",
       "      <th>Switzerland</th>\n",
       "      <th>Netherlands</th>\n",
       "      <th>Spain</th>\n",
       "    </tr>\n",
       "  </thead>\n",
       "  <tbody>\n",
       "    <tr>\n",
       "      <th>Switzerland</th>\n",
       "      <td>NaN</td>\n",
       "      <td>392.028643</td>\n",
       "      <td>714.804467</td>\n",
       "    </tr>\n",
       "    <tr>\n",
       "      <th>Netherlands</th>\n",
       "      <td>392.028643</td>\n",
       "      <td>NaN</td>\n",
       "      <td>919.684100</td>\n",
       "    </tr>\n",
       "    <tr>\n",
       "      <th>Spain</th>\n",
       "      <td>714.804467</td>\n",
       "      <td>919.684100</td>\n",
       "      <td>NaN</td>\n",
       "    </tr>\n",
       "  </tbody>\n",
       "</table>\n",
       "</div>"
      ],
      "text/plain": [
       "             Switzerland  Netherlands       Spain\n",
       "Switzerland          NaN   392.028643  714.804467\n",
       "Netherlands   392.028643          NaN  919.684100\n",
       "Spain         714.804467   919.684100         NaN"
      ]
     },
     "execution_count": 18,
     "metadata": {},
     "output_type": "execute_result"
    }
   ],
   "source": [
    "#q10: What are the distances between Switzerland, Netherlands and Spain?\n",
    "country_list = ['Switzerland', 'Netherlands', 'Spain']\n",
    "get_country_data_frame(country_list)"
   ]
  },
  {
   "cell_type": "code",
   "execution_count": 19,
   "metadata": {
    "ExecuteTime": {
     "end_time": "2020-09-07T19:13:23.573027Z",
     "start_time": "2020-09-07T19:13:23.312457Z"
    }
   },
   "outputs": [
    {
     "data": {
      "text/html": [
       "<div>\n",
       "<style scoped>\n",
       "    .dataframe tbody tr th:only-of-type {\n",
       "        vertical-align: middle;\n",
       "    }\n",
       "\n",
       "    .dataframe tbody tr th {\n",
       "        vertical-align: top;\n",
       "    }\n",
       "\n",
       "    .dataframe thead th {\n",
       "        text-align: right;\n",
       "    }\n",
       "</style>\n",
       "<table border=\"1\" class=\"dataframe\">\n",
       "  <thead>\n",
       "    <tr style=\"text-align: right;\">\n",
       "      <th></th>\n",
       "      <th>Chile</th>\n",
       "      <th>Guyana</th>\n",
       "      <th>Colombia</th>\n",
       "      <th>Suriname</th>\n",
       "      <th>Brazil</th>\n",
       "      <th>Bolivia</th>\n",
       "      <th>Venezuela</th>\n",
       "      <th>Argentina</th>\n",
       "      <th>Peru</th>\n",
       "      <th>Ecuador</th>\n",
       "      <th>Uruguay</th>\n",
       "      <th>Paraguay</th>\n",
       "    </tr>\n",
       "  </thead>\n",
       "  <tbody>\n",
       "    <tr>\n",
       "      <th>Chile</th>\n",
       "      <td>NaN</td>\n",
       "      <td>2897.553095</td>\n",
       "      <td>2636.644599</td>\n",
       "      <td>2895.810776</td>\n",
       "      <td>1869.737031</td>\n",
       "      <td>1180.741903</td>\n",
       "      <td>3043.657689</td>\n",
       "      <td>690.784168</td>\n",
       "      <td>1531.480189</td>\n",
       "      <td>2350.207788</td>\n",
       "      <td>833.403262</td>\n",
       "      <td>963.635535</td>\n",
       "    </tr>\n",
       "    <tr>\n",
       "      <th>Guyana</th>\n",
       "      <td>2897.553095</td>\n",
       "      <td>NaN</td>\n",
       "      <td>1105.066312</td>\n",
       "      <td>215.336336</td>\n",
       "      <td>1709.071018</td>\n",
       "      <td>1747.772670</td>\n",
       "      <td>646.969843</td>\n",
       "      <td>2857.520462</td>\n",
       "      <td>1837.860149</td>\n",
       "      <td>1483.193753</td>\n",
       "      <td>2878.638295</td>\n",
       "      <td>2214.288286</td>\n",
       "    </tr>\n",
       "    <tr>\n",
       "      <th>Colombia</th>\n",
       "      <td>2636.644599</td>\n",
       "      <td>1105.066312</td>\n",
       "      <td>NaN</td>\n",
       "      <td>1303.405134</td>\n",
       "      <td>2275.516286</td>\n",
       "      <td>1512.119255</td>\n",
       "      <td>639.361118</td>\n",
       "      <td>2885.355610</td>\n",
       "      <td>1167.505359</td>\n",
       "      <td>451.004119</td>\n",
       "      <td>2962.230943</td>\n",
       "      <td>2337.615967</td>\n",
       "    </tr>\n",
       "    <tr>\n",
       "      <th>Suriname</th>\n",
       "      <td>2895.810776</td>\n",
       "      <td>215.336336</td>\n",
       "      <td>1303.405134</td>\n",
       "      <td>NaN</td>\n",
       "      <td>1572.674232</td>\n",
       "      <td>1778.772975</td>\n",
       "      <td>861.456786</td>\n",
       "      <td>2799.886429</td>\n",
       "      <td>1944.750017</td>\n",
       "      <td>1661.699022</td>\n",
       "      <td>2809.744412</td>\n",
       "      <td>2153.855447</td>\n",
       "    </tr>\n",
       "    <tr>\n",
       "      <th>Brazil</th>\n",
       "      <td>1869.737031</td>\n",
       "      <td>1709.071018</td>\n",
       "      <td>2275.516286</td>\n",
       "      <td>1572.674232</td>\n",
       "      <td>NaN</td>\n",
       "      <td>1342.297074</td>\n",
       "      <td>2228.690679</td>\n",
       "      <td>1459.139733</td>\n",
       "      <td>1967.770515</td>\n",
       "      <td>2344.584922</td>\n",
       "      <td>1412.096335</td>\n",
       "      <td>908.185710</td>\n",
       "    </tr>\n",
       "    <tr>\n",
       "      <th>Bolivia</th>\n",
       "      <td>1180.741903</td>\n",
       "      <td>1747.772670</td>\n",
       "      <td>1512.119255</td>\n",
       "      <td>1778.772975</td>\n",
       "      <td>1342.297074</td>\n",
       "      <td>NaN</td>\n",
       "      <td>1865.131181</td>\n",
       "      <td>1379.455701</td>\n",
       "      <td>669.926372</td>\n",
       "      <td>1326.758656</td>\n",
       "      <td>1467.253638</td>\n",
       "      <td>906.799256</td>\n",
       "    </tr>\n",
       "    <tr>\n",
       "      <th>Venezuela</th>\n",
       "      <td>3043.657689</td>\n",
       "      <td>646.969843</td>\n",
       "      <td>639.361118</td>\n",
       "      <td>861.456786</td>\n",
       "      <td>2228.690679</td>\n",
       "      <td>1865.131181</td>\n",
       "      <td>NaN</td>\n",
       "      <td>3157.624051</td>\n",
       "      <td>1705.418003</td>\n",
       "      <td>1088.064117</td>\n",
       "      <td>3207.352176</td>\n",
       "      <td>2544.799572</td>\n",
       "    </tr>\n",
       "    <tr>\n",
       "      <th>Argentina</th>\n",
       "      <td>690.784168</td>\n",
       "      <td>2857.520462</td>\n",
       "      <td>2885.355610</td>\n",
       "      <td>2799.886429</td>\n",
       "      <td>1459.139733</td>\n",
       "      <td>1379.455701</td>\n",
       "      <td>3157.624051</td>\n",
       "      <td>NaN</td>\n",
       "      <td>1936.465790</td>\n",
       "      <td>2696.149591</td>\n",
       "      <td>143.069943</td>\n",
       "      <td>646.036441</td>\n",
       "    </tr>\n",
       "    <tr>\n",
       "      <th>Peru</th>\n",
       "      <td>1531.480189</td>\n",
       "      <td>1837.860149</td>\n",
       "      <td>1167.505359</td>\n",
       "      <td>1944.750017</td>\n",
       "      <td>1967.770515</td>\n",
       "      <td>669.926372</td>\n",
       "      <td>1705.418003</td>\n",
       "      <td>1936.465790</td>\n",
       "      <td>NaN</td>\n",
       "      <td>823.054491</td>\n",
       "      <td>2046.571589</td>\n",
       "      <td>1558.635236</td>\n",
       "    </tr>\n",
       "    <tr>\n",
       "      <th>Ecuador</th>\n",
       "      <td>2350.207788</td>\n",
       "      <td>1483.193753</td>\n",
       "      <td>451.004119</td>\n",
       "      <td>1661.699022</td>\n",
       "      <td>2344.584922</td>\n",
       "      <td>1326.758656</td>\n",
       "      <td>1088.064117</td>\n",
       "      <td>2696.149591</td>\n",
       "      <td>823.054491</td>\n",
       "      <td>NaN</td>\n",
       "      <td>2791.196721</td>\n",
       "      <td>2218.650964</td>\n",
       "    </tr>\n",
       "    <tr>\n",
       "      <th>Uruguay</th>\n",
       "      <td>833.403262</td>\n",
       "      <td>2878.638295</td>\n",
       "      <td>2962.230943</td>\n",
       "      <td>2809.744412</td>\n",
       "      <td>1412.096335</td>\n",
       "      <td>1467.253638</td>\n",
       "      <td>3207.352176</td>\n",
       "      <td>143.069943</td>\n",
       "      <td>2046.571589</td>\n",
       "      <td>2791.196721</td>\n",
       "      <td>NaN</td>\n",
       "      <td>667.699386</td>\n",
       "    </tr>\n",
       "    <tr>\n",
       "      <th>Paraguay</th>\n",
       "      <td>963.635535</td>\n",
       "      <td>2214.288286</td>\n",
       "      <td>2337.615967</td>\n",
       "      <td>2153.855447</td>\n",
       "      <td>908.185710</td>\n",
       "      <td>906.799256</td>\n",
       "      <td>2544.799572</td>\n",
       "      <td>646.036441</td>\n",
       "      <td>1558.635236</td>\n",
       "      <td>2218.650964</td>\n",
       "      <td>667.699386</td>\n",
       "      <td>NaN</td>\n",
       "    </tr>\n",
       "  </tbody>\n",
       "</table>\n",
       "</div>"
      ],
      "text/plain": [
       "                 Chile       Guyana     Colombia     Suriname       Brazil  \\\n",
       "Chile              NaN  2897.553095  2636.644599  2895.810776  1869.737031   \n",
       "Guyana     2897.553095          NaN  1105.066312   215.336336  1709.071018   \n",
       "Colombia   2636.644599  1105.066312          NaN  1303.405134  2275.516286   \n",
       "Suriname   2895.810776   215.336336  1303.405134          NaN  1572.674232   \n",
       "Brazil     1869.737031  1709.071018  2275.516286  1572.674232          NaN   \n",
       "Bolivia    1180.741903  1747.772670  1512.119255  1778.772975  1342.297074   \n",
       "Venezuela  3043.657689   646.969843   639.361118   861.456786  2228.690679   \n",
       "Argentina   690.784168  2857.520462  2885.355610  2799.886429  1459.139733   \n",
       "Peru       1531.480189  1837.860149  1167.505359  1944.750017  1967.770515   \n",
       "Ecuador    2350.207788  1483.193753   451.004119  1661.699022  2344.584922   \n",
       "Uruguay     833.403262  2878.638295  2962.230943  2809.744412  1412.096335   \n",
       "Paraguay    963.635535  2214.288286  2337.615967  2153.855447   908.185710   \n",
       "\n",
       "               Bolivia    Venezuela    Argentina         Peru      Ecuador  \\\n",
       "Chile      1180.741903  3043.657689   690.784168  1531.480189  2350.207788   \n",
       "Guyana     1747.772670   646.969843  2857.520462  1837.860149  1483.193753   \n",
       "Colombia   1512.119255   639.361118  2885.355610  1167.505359   451.004119   \n",
       "Suriname   1778.772975   861.456786  2799.886429  1944.750017  1661.699022   \n",
       "Brazil     1342.297074  2228.690679  1459.139733  1967.770515  2344.584922   \n",
       "Bolivia            NaN  1865.131181  1379.455701   669.926372  1326.758656   \n",
       "Venezuela  1865.131181          NaN  3157.624051  1705.418003  1088.064117   \n",
       "Argentina  1379.455701  3157.624051          NaN  1936.465790  2696.149591   \n",
       "Peru        669.926372  1705.418003  1936.465790          NaN   823.054491   \n",
       "Ecuador    1326.758656  1088.064117  2696.149591   823.054491          NaN   \n",
       "Uruguay    1467.253638  3207.352176   143.069943  2046.571589  2791.196721   \n",
       "Paraguay    906.799256  2544.799572   646.036441  1558.635236  2218.650964   \n",
       "\n",
       "               Uruguay     Paraguay  \n",
       "Chile       833.403262   963.635535  \n",
       "Guyana     2878.638295  2214.288286  \n",
       "Colombia   2962.230943  2337.615967  \n",
       "Suriname   2809.744412  2153.855447  \n",
       "Brazil     1412.096335   908.185710  \n",
       "Bolivia    1467.253638   906.799256  \n",
       "Venezuela  3207.352176  2544.799572  \n",
       "Argentina   143.069943   646.036441  \n",
       "Peru       2046.571589  1558.635236  \n",
       "Ecuador    2791.196721  2218.650964  \n",
       "Uruguay            NaN   667.699386  \n",
       "Paraguay    667.699386          NaN  "
      ]
     },
     "execution_count": 19,
     "metadata": {},
     "output_type": "execute_result"
    }
   ],
   "source": [
    "#q11: What is the distance between every pair of countries in the South American continent?\n",
    "temp_countries = countries\n",
    "temp_countries = temp_countries[temp_countries['continent'] == 'South America']\n",
    "country_list = temp_countries['country'].to_list()\n",
    "south_df = get_country_data_frame(country_list)\n",
    "south_df"
   ]
  },
  {
   "cell_type": "code",
   "execution_count": 20,
   "metadata": {
    "ExecuteTime": {
     "end_time": "2020-09-07T19:13:23.635262Z",
     "start_time": "2020-09-07T19:13:23.575022Z"
    }
   },
   "outputs": [
    {
     "data": {
      "text/plain": [
       "'Bolivia'"
      ]
     },
     "execution_count": 20,
     "metadata": {},
     "output_type": "execute_result"
    }
   ],
   "source": [
    "#Q12: What is the most central country in the South American continent?\n",
    "#(Shortest average distance)\n",
    "mean_df = south_df.describe().transpose()\n",
    "minCountry = mean_df[\"mean\"].idxmin()\n",
    "minCountry"
   ]
  },
  {
   "cell_type": "code",
   "execution_count": 21,
   "metadata": {
    "ExecuteTime": {
     "end_time": "2020-09-07T19:13:23.696149Z",
     "start_time": "2020-09-07T19:13:23.636262Z"
    }
   },
   "outputs": [
    {
     "data": {
      "text/plain": [
       "'Uruguay'"
      ]
     },
     "execution_count": 21,
     "metadata": {},
     "output_type": "execute_result"
    }
   ],
   "source": [
    "#q13: What is the least central country in South America?\n",
    "#(Longest average distance)\n",
    "mean_df = south_df.describe().transpose()\n",
    "maxCountry = mean_df[\"mean\"].idxmax()\n",
    "maxCountry"
   ]
  },
  {
   "cell_type": "code",
   "execution_count": 22,
   "metadata": {
    "ExecuteTime": {
     "end_time": "2020-09-07T19:13:23.743022Z",
     "start_time": "2020-09-07T19:13:23.697098Z"
    }
   },
   "outputs": [
    {
     "data": {
      "text/html": [
       "<div>\n",
       "<style scoped>\n",
       "    .dataframe tbody tr th:only-of-type {\n",
       "        vertical-align: middle;\n",
       "    }\n",
       "\n",
       "    .dataframe tbody tr th {\n",
       "        vertical-align: top;\n",
       "    }\n",
       "\n",
       "    .dataframe thead th {\n",
       "        text-align: right;\n",
       "    }\n",
       "</style>\n",
       "<table border=\"1\" class=\"dataframe\">\n",
       "  <thead>\n",
       "    <tr style=\"text-align: right;\">\n",
       "      <th></th>\n",
       "      <th>nearest</th>\n",
       "      <th>distance</th>\n",
       "    </tr>\n",
       "  </thead>\n",
       "  <tbody>\n",
       "    <tr>\n",
       "      <th>Chile</th>\n",
       "      <td>Argentina</td>\n",
       "      <td>690.784</td>\n",
       "    </tr>\n",
       "    <tr>\n",
       "      <th>Guyana</th>\n",
       "      <td>Suriname</td>\n",
       "      <td>215.336</td>\n",
       "    </tr>\n",
       "    <tr>\n",
       "      <th>Colombia</th>\n",
       "      <td>Ecuador</td>\n",
       "      <td>451.004</td>\n",
       "    </tr>\n",
       "    <tr>\n",
       "      <th>Suriname</th>\n",
       "      <td>Guyana</td>\n",
       "      <td>215.336</td>\n",
       "    </tr>\n",
       "    <tr>\n",
       "      <th>Brazil</th>\n",
       "      <td>Paraguay</td>\n",
       "      <td>908.186</td>\n",
       "    </tr>\n",
       "    <tr>\n",
       "      <th>Bolivia</th>\n",
       "      <td>Peru</td>\n",
       "      <td>669.926</td>\n",
       "    </tr>\n",
       "    <tr>\n",
       "      <th>Venezuela</th>\n",
       "      <td>Colombia</td>\n",
       "      <td>639.361</td>\n",
       "    </tr>\n",
       "    <tr>\n",
       "      <th>Argentina</th>\n",
       "      <td>Uruguay</td>\n",
       "      <td>143.07</td>\n",
       "    </tr>\n",
       "    <tr>\n",
       "      <th>Peru</th>\n",
       "      <td>Bolivia</td>\n",
       "      <td>669.926</td>\n",
       "    </tr>\n",
       "    <tr>\n",
       "      <th>Ecuador</th>\n",
       "      <td>Colombia</td>\n",
       "      <td>451.004</td>\n",
       "    </tr>\n",
       "    <tr>\n",
       "      <th>Uruguay</th>\n",
       "      <td>Argentina</td>\n",
       "      <td>143.07</td>\n",
       "    </tr>\n",
       "    <tr>\n",
       "      <th>Paraguay</th>\n",
       "      <td>Argentina</td>\n",
       "      <td>646.036</td>\n",
       "    </tr>\n",
       "  </tbody>\n",
       "</table>\n",
       "</div>"
      ],
      "text/plain": [
       "             nearest distance\n",
       "Chile      Argentina  690.784\n",
       "Guyana      Suriname  215.336\n",
       "Colombia     Ecuador  451.004\n",
       "Suriname      Guyana  215.336\n",
       "Brazil      Paraguay  908.186\n",
       "Bolivia         Peru  669.926\n",
       "Venezuela   Colombia  639.361\n",
       "Argentina    Uruguay   143.07\n",
       "Peru         Bolivia  669.926\n",
       "Ecuador     Colombia  451.004\n",
       "Uruguay    Argentina   143.07\n",
       "Paraguay   Argentina  646.036"
      ]
     },
     "execution_count": 22,
     "metadata": {},
     "output_type": "execute_result"
    }
   ],
   "source": [
    "#q14: How close is each country in South America to it's nearest neighbor?\n",
    "\n",
    "#Creates lists to hold column data of data frame\n",
    "#And a row names and column names\n",
    "nearest_list = list()\n",
    "distance_list = list()\n",
    "column_header = [\"nearest\", \"distance\"]\n",
    "row_header = list()\n",
    "\n",
    "for country in south_df:\n",
    "    #placeholder var\n",
    "    nearest_country = south_df[country].idxmin()\n",
    "    \n",
    "    #Appends to list\n",
    "    nearest_list.append(nearest_country)\n",
    "    distance_list.append(get_distance_country(country, nearest_country))\n",
    "    row_header.append(country)\n",
    "\n",
    "#Makes the completed dataframe using list info\n",
    "df = pd.DataFrame([nearest_list, distance_list], columns = row_header, index = column_header).transpose()\n",
    "df"
   ]
  },
  {
   "cell_type": "code",
   "execution_count": 23,
   "metadata": {
    "ExecuteTime": {
     "end_time": "2020-09-07T19:13:23.789897Z",
     "start_time": "2020-09-07T19:13:23.747003Z"
    }
   },
   "outputs": [
    {
     "data": {
      "text/html": [
       "<div>\n",
       "<style scoped>\n",
       "    .dataframe tbody tr th:only-of-type {\n",
       "        vertical-align: middle;\n",
       "    }\n",
       "\n",
       "    .dataframe tbody tr th {\n",
       "        vertical-align: top;\n",
       "    }\n",
       "\n",
       "    .dataframe thead th {\n",
       "        text-align: right;\n",
       "    }\n",
       "</style>\n",
       "<table border=\"1\" class=\"dataframe\">\n",
       "  <thead>\n",
       "    <tr style=\"text-align: right;\">\n",
       "      <th></th>\n",
       "      <th>furthest</th>\n",
       "      <th>distance</th>\n",
       "    </tr>\n",
       "  </thead>\n",
       "  <tbody>\n",
       "    <tr>\n",
       "      <th>Chile</th>\n",
       "      <td>Venezuela</td>\n",
       "      <td>3043.66</td>\n",
       "    </tr>\n",
       "    <tr>\n",
       "      <th>Guyana</th>\n",
       "      <td>Chile</td>\n",
       "      <td>2897.55</td>\n",
       "    </tr>\n",
       "    <tr>\n",
       "      <th>Colombia</th>\n",
       "      <td>Uruguay</td>\n",
       "      <td>2962.23</td>\n",
       "    </tr>\n",
       "    <tr>\n",
       "      <th>Suriname</th>\n",
       "      <td>Chile</td>\n",
       "      <td>2895.81</td>\n",
       "    </tr>\n",
       "    <tr>\n",
       "      <th>Brazil</th>\n",
       "      <td>Ecuador</td>\n",
       "      <td>2344.58</td>\n",
       "    </tr>\n",
       "    <tr>\n",
       "      <th>Bolivia</th>\n",
       "      <td>Venezuela</td>\n",
       "      <td>1865.13</td>\n",
       "    </tr>\n",
       "    <tr>\n",
       "      <th>Venezuela</th>\n",
       "      <td>Uruguay</td>\n",
       "      <td>3207.35</td>\n",
       "    </tr>\n",
       "    <tr>\n",
       "      <th>Argentina</th>\n",
       "      <td>Venezuela</td>\n",
       "      <td>3157.62</td>\n",
       "    </tr>\n",
       "    <tr>\n",
       "      <th>Peru</th>\n",
       "      <td>Uruguay</td>\n",
       "      <td>2046.57</td>\n",
       "    </tr>\n",
       "    <tr>\n",
       "      <th>Ecuador</th>\n",
       "      <td>Uruguay</td>\n",
       "      <td>2791.2</td>\n",
       "    </tr>\n",
       "    <tr>\n",
       "      <th>Uruguay</th>\n",
       "      <td>Venezuela</td>\n",
       "      <td>3207.35</td>\n",
       "    </tr>\n",
       "    <tr>\n",
       "      <th>Paraguay</th>\n",
       "      <td>Venezuela</td>\n",
       "      <td>2544.8</td>\n",
       "    </tr>\n",
       "  </tbody>\n",
       "</table>\n",
       "</div>"
      ],
      "text/plain": [
       "            furthest distance\n",
       "Chile      Venezuela  3043.66\n",
       "Guyana         Chile  2897.55\n",
       "Colombia     Uruguay  2962.23\n",
       "Suriname       Chile  2895.81\n",
       "Brazil       Ecuador  2344.58\n",
       "Bolivia    Venezuela  1865.13\n",
       "Venezuela    Uruguay  3207.35\n",
       "Argentina  Venezuela  3157.62\n",
       "Peru         Uruguay  2046.57\n",
       "Ecuador      Uruguay   2791.2\n",
       "Uruguay    Venezuela  3207.35\n",
       "Paraguay   Venezuela   2544.8"
      ]
     },
     "execution_count": 23,
     "metadata": {},
     "output_type": "execute_result"
    }
   ],
   "source": [
    "#q15: How far is each country in South America to it's furthest neighbor?\n",
    "\n",
    "#Creates lists to hold column data of data frame\n",
    "#And a row names and column names\n",
    "furthest_list = list()\n",
    "distance_list = list()\n",
    "column_header = [\"furthest\", \"distance\"]\n",
    "row_header = list()\n",
    "\n",
    "for country in south_df:\n",
    "    #placeholder var\n",
    "    furthest_country = south_df[country].idxmax()\n",
    "    \n",
    "    #Appends to list\n",
    "    furthest_list.append(furthest_country)\n",
    "    distance_list.append(get_distance_country(country, furthest_country))\n",
    "    row_header.append(country)\n",
    "\n",
    "#Makes the completed dataframe using list info\n",
    "df = pd.DataFrame([furthest_list, distance_list], columns = row_header, index = column_header).transpose()\n",
    "df"
   ]
  },
  {
   "cell_type": "code",
   "execution_count": 24,
   "metadata": {
    "ExecuteTime": {
     "end_time": "2020-09-07T19:13:25.143753Z",
     "start_time": "2020-09-07T19:13:23.792843Z"
    }
   },
   "outputs": [],
   "source": [
    "import sqlite3\n",
    "conn = sqlite3.connect('countries.db')\n",
    "countries.to_sql(\"countries\", conn, if_exists=\"replace\", index=False)\n",
    "capitals.to_sql(\"capitals\", conn, if_exists=\"replace\", index=False)"
   ]
  },
  {
   "cell_type": "code",
   "execution_count": 25,
   "metadata": {
    "ExecuteTime": {
     "end_time": "2020-09-07T19:13:25.189628Z",
     "start_time": "2020-09-07T19:13:25.149789Z"
    }
   },
   "outputs": [
    {
     "data": {
      "text/html": [
       "<div>\n",
       "<style scoped>\n",
       "    .dataframe tbody tr th:only-of-type {\n",
       "        vertical-align: middle;\n",
       "    }\n",
       "\n",
       "    .dataframe tbody tr th {\n",
       "        vertical-align: top;\n",
       "    }\n",
       "\n",
       "    .dataframe thead th {\n",
       "        text-align: right;\n",
       "    }\n",
       "</style>\n",
       "<table border=\"1\" class=\"dataframe\">\n",
       "  <thead>\n",
       "    <tr style=\"text-align: right;\">\n",
       "      <th></th>\n",
       "      <th>continent</th>\n",
       "      <th>number of countries</th>\n",
       "    </tr>\n",
       "  </thead>\n",
       "  <tbody>\n",
       "    <tr>\n",
       "      <th>0</th>\n",
       "      <td>Australia</td>\n",
       "      <td>12</td>\n",
       "    </tr>\n",
       "    <tr>\n",
       "      <th>1</th>\n",
       "      <td>South America</td>\n",
       "      <td>12</td>\n",
       "    </tr>\n",
       "    <tr>\n",
       "      <th>2</th>\n",
       "      <td>North America</td>\n",
       "      <td>24</td>\n",
       "    </tr>\n",
       "    <tr>\n",
       "      <th>3</th>\n",
       "      <td>Asia</td>\n",
       "      <td>38</td>\n",
       "    </tr>\n",
       "    <tr>\n",
       "      <th>4</th>\n",
       "      <td>Europe</td>\n",
       "      <td>41</td>\n",
       "    </tr>\n",
       "    <tr>\n",
       "      <th>5</th>\n",
       "      <td>Africa</td>\n",
       "      <td>47</td>\n",
       "    </tr>\n",
       "  </tbody>\n",
       "</table>\n",
       "</div>"
      ],
      "text/plain": [
       "       continent number of countries\n",
       "0      Australia                  12\n",
       "1  South America                  12\n",
       "2  North America                  24\n",
       "3           Asia                  38\n",
       "4         Europe                  41\n",
       "5         Africa                  47"
      ]
     },
     "execution_count": 25,
     "metadata": {},
     "output_type": "execute_result"
    }
   ],
   "source": [
    "#q16: How many countries are in each continent?\n",
    "\n",
    "#Query the sql database\n",
    "qry = \"\"\"    \n",
    "    SELECT continent, COUNT(country)\n",
    "    FROM Countries\n",
    "    GROUP BY continent;\n",
    "\"\"\"\n",
    "\n",
    "#Convert to  dataframe and rename\n",
    "df = pd.read_sql(qry, conn)\n",
    "df = df.sort_values(by=['COUNT(country)'])\n",
    "\n",
    "#Had to remake data frame to get rows to be indexed properly (0, 1, 2... etc)\n",
    "df = pd.DataFrame([df['continent'].to_list(), df['COUNT(country)'].to_list()])\n",
    "df = df.transpose()\n",
    "df = df.rename(columns= {0: 'continent', 1: 'number of countries'})\n",
    "\n",
    "df"
   ]
  },
  {
   "cell_type": "code",
   "execution_count": 26,
   "metadata": {
    "ExecuteTime": {
     "end_time": "2020-09-07T19:13:25.467349Z",
     "start_time": "2020-09-07T19:13:25.193620Z"
    }
   },
   "outputs": [],
   "source": [
    "%matplotlib inline"
   ]
  },
  {
   "cell_type": "code",
   "execution_count": 27,
   "metadata": {
    "ExecuteTime": {
     "end_time": "2020-09-07T19:13:25.483357Z",
     "start_time": "2020-09-07T19:13:25.468352Z"
    }
   },
   "outputs": [],
   "source": [
    "import matplotlib"
   ]
  },
  {
   "cell_type": "code",
   "execution_count": 28,
   "metadata": {
    "ExecuteTime": {
     "end_time": "2020-09-07T19:13:25.637923Z",
     "start_time": "2020-09-07T19:13:25.485307Z"
    }
   },
   "outputs": [
    {
     "data": {
      "image/png": "[encoded data removed]",
      "text/plain": [
       "<Figure size 432x288 with 1 Axes>"
      ]
     },
     "metadata": {
      "needs_background": "light"
     },
     "output_type": "display_data"
    }
   ],
   "source": [
    "#q17: How many countries are in each continent? (answer with a plot)\n",
    "\n",
    "#Get bar plot from dataframe\n",
    "stat_list = df[\"number of countries\"].to_list()\n",
    "names_list = df[\"continent\"].to_list()\n",
    "plot_series = pd.Series(stat_list, index = names_list)\n",
    "plot = plot_series.plot.bar(color=\"black\", fontsize=16)\n",
    "\n",
    "#Format plot labels\n",
    "plot.set_ylabel(\"number of countries\", fontsize=16)\n",
    "plot.set_xlabel(\"continents\", fontsize=16)\n",
    "\n",
    "#Result\n",
    "result_plot = plot"
   ]
  },
  {
   "cell_type": "code",
   "execution_count": 29,
   "metadata": {
    "ExecuteTime": {
     "end_time": "2020-09-07T19:13:25.669327Z",
     "start_time": "2020-09-07T19:13:25.638896Z"
    }
   },
   "outputs": [
    {
     "data": {
      "text/html": [
       "<div>\n",
       "<style scoped>\n",
       "    .dataframe tbody tr th:only-of-type {\n",
       "        vertical-align: middle;\n",
       "    }\n",
       "\n",
       "    .dataframe tbody tr th {\n",
       "        vertical-align: top;\n",
       "    }\n",
       "\n",
       "    .dataframe thead th {\n",
       "        text-align: right;\n",
       "    }\n",
       "</style>\n",
       "<table border=\"1\" class=\"dataframe\">\n",
       "  <thead>\n",
       "    <tr style=\"text-align: right;\">\n",
       "      <th></th>\n",
       "      <th>continent</th>\n",
       "      <th>total area</th>\n",
       "    </tr>\n",
       "  </thead>\n",
       "  <tbody>\n",
       "    <tr>\n",
       "      <th>0</th>\n",
       "      <td>Asia</td>\n",
       "      <td>29731231</td>\n",
       "    </tr>\n",
       "    <tr>\n",
       "      <th>1</th>\n",
       "      <td>Africa</td>\n",
       "      <td>25199550</td>\n",
       "    </tr>\n",
       "    <tr>\n",
       "      <th>2</th>\n",
       "      <td>Europe</td>\n",
       "      <td>23708430</td>\n",
       "    </tr>\n",
       "    <tr>\n",
       "      <th>3</th>\n",
       "      <td>North America</td>\n",
       "      <td>22327685</td>\n",
       "    </tr>\n",
       "    <tr>\n",
       "      <th>4</th>\n",
       "      <td>South America</td>\n",
       "      <td>17715335</td>\n",
       "    </tr>\n",
       "    <tr>\n",
       "      <th>5</th>\n",
       "      <td>Australia</td>\n",
       "      <td>8488612</td>\n",
       "    </tr>\n",
       "  </tbody>\n",
       "</table>\n",
       "</div>"
      ],
      "text/plain": [
       "       continent total area\n",
       "0           Asia   29731231\n",
       "1         Africa   25199550\n",
       "2         Europe   23708430\n",
       "3  North America   22327685\n",
       "4  South America   17715335\n",
       "5      Australia    8488612"
      ]
     },
     "execution_count": 29,
     "metadata": {},
     "output_type": "execute_result"
    }
   ],
   "source": [
    "#q18: What is the total area of each continent?\n",
    "\n",
    "#Query the sql database\n",
    "qry = \"\"\"    \n",
    "    SELECT continent, SUM(area)\n",
    "    FROM Countries\n",
    "    GROUP BY continent;\n",
    "\"\"\"\n",
    "\n",
    "#Convert to  dataframe and rename\n",
    "df = pd.read_sql(qry, conn)\n",
    "df = df.sort_values(by=['SUM(area)'], ascending = False)\n",
    "\n",
    "#Had to remake data frame to get rows to be indexed properly (0, 1, 2... etc)\n",
    "df = pd.DataFrame([df['continent'].to_list(), df['SUM(area)'].to_list()])\n",
    "df = df.transpose()\n",
    "df = df.rename(columns= {0: 'continent', 1: 'total area'})\n",
    "\n",
    "df"
   ]
  },
  {
   "cell_type": "code",
   "execution_count": 30,
   "metadata": {
    "ExecuteTime": {
     "end_time": "2020-09-07T19:13:25.823743Z",
     "start_time": "2020-09-07T19:13:25.671115Z"
    }
   },
   "outputs": [
    {
     "data": {
      "image/png": "[encoded data removed]",
      "text/plain": [
       "<Figure size 432x288 with 1 Axes>"
      ]
     },
     "metadata": {
      "needs_background": "light"
     },
     "output_type": "display_data"
    }
   ],
   "source": [
    "#q19: What is the total area of each continent? (answer with a plot)\n",
    "\n",
    "#Get bar plot from dataframe\n",
    "stat_list = df[\"total area\"].to_list()\n",
    "names_list = df[\"continent\"].to_list()\n",
    "plot_series = pd.Series(stat_list, index = names_list)\n",
    "plot = plot_series.plot.bar(color=\"black\", fontsize=16)\n",
    "\n",
    "#Format plot labels\n",
    "plot.set_ylabel(\"total area\", fontsize=16)\n",
    "plot.set_xlabel(\"continents\", fontsize=16)\n",
    "\n",
    "#Result\n",
    "result_plot = plot"
   ]
  },
  {
   "cell_type": "code",
   "execution_count": 31,
   "metadata": {
    "ExecuteTime": {
     "end_time": "2020-09-07T19:13:25.854696Z",
     "start_time": "2020-09-07T19:13:25.824696Z"
    }
   },
   "outputs": [
    {
     "data": {
      "text/html": [
       "<div>\n",
       "<style scoped>\n",
       "    .dataframe tbody tr th:only-of-type {\n",
       "        vertical-align: middle;\n",
       "    }\n",
       "\n",
       "    .dataframe tbody tr th {\n",
       "        vertical-align: top;\n",
       "    }\n",
       "\n",
       "    .dataframe thead th {\n",
       "        text-align: right;\n",
       "    }\n",
       "</style>\n",
       "<table border=\"1\" class=\"dataframe\">\n",
       "  <thead>\n",
       "    <tr style=\"text-align: right;\">\n",
       "      <th></th>\n",
       "      <th>country</th>\n",
       "      <th>area</th>\n",
       "    </tr>\n",
       "  </thead>\n",
       "  <tbody>\n",
       "    <tr>\n",
       "      <th>0</th>\n",
       "      <td>Brazil</td>\n",
       "      <td>8511965</td>\n",
       "    </tr>\n",
       "    <tr>\n",
       "      <th>1</th>\n",
       "      <td>Argentina</td>\n",
       "      <td>2766890</td>\n",
       "    </tr>\n",
       "    <tr>\n",
       "      <th>2</th>\n",
       "      <td>Peru</td>\n",
       "      <td>1285220</td>\n",
       "    </tr>\n",
       "    <tr>\n",
       "      <th>3</th>\n",
       "      <td>Colombia</td>\n",
       "      <td>1138910</td>\n",
       "    </tr>\n",
       "    <tr>\n",
       "      <th>4</th>\n",
       "      <td>Bolivia</td>\n",
       "      <td>1098580</td>\n",
       "    </tr>\n",
       "    <tr>\n",
       "      <th>5</th>\n",
       "      <td>Venezuela</td>\n",
       "      <td>912050</td>\n",
       "    </tr>\n",
       "    <tr>\n",
       "      <th>6</th>\n",
       "      <td>Chile</td>\n",
       "      <td>756950</td>\n",
       "    </tr>\n",
       "    <tr>\n",
       "      <th>7</th>\n",
       "      <td>Paraguay</td>\n",
       "      <td>406750</td>\n",
       "    </tr>\n",
       "    <tr>\n",
       "      <th>8</th>\n",
       "      <td>Ecuador</td>\n",
       "      <td>283560</td>\n",
       "    </tr>\n",
       "    <tr>\n",
       "      <th>9</th>\n",
       "      <td>Guyana</td>\n",
       "      <td>214970</td>\n",
       "    </tr>\n",
       "    <tr>\n",
       "      <th>10</th>\n",
       "      <td>Uruguay</td>\n",
       "      <td>176220</td>\n",
       "    </tr>\n",
       "    <tr>\n",
       "      <th>11</th>\n",
       "      <td>Suriname</td>\n",
       "      <td>163270</td>\n",
       "    </tr>\n",
       "  </tbody>\n",
       "</table>\n",
       "</div>"
      ],
      "text/plain": [
       "      country     area\n",
       "0      Brazil  8511965\n",
       "1   Argentina  2766890\n",
       "2        Peru  1285220\n",
       "3    Colombia  1138910\n",
       "4     Bolivia  1098580\n",
       "5   Venezuela   912050\n",
       "6       Chile   756950\n",
       "7    Paraguay   406750\n",
       "8     Ecuador   283560\n",
       "9      Guyana   214970\n",
       "10    Uruguay   176220\n",
       "11   Suriname   163270"
      ]
     },
     "execution_count": 31,
     "metadata": {},
     "output_type": "execute_result"
    }
   ],
   "source": [
    "#q20: What is the area of each country in South America?\n",
    "#Query the sql database\n",
    "qry = \"\"\"    \n",
    "    SELECT country, area\n",
    "    FROM Countries\n",
    "    WHERE continent = \"South America\";\n",
    "\"\"\"\n",
    "\n",
    "#Convert to  dataframe and rename\n",
    "df = pd.read_sql(qry, conn)\n",
    "\n",
    "df = df.sort_values(by=['area'], ascending = False)\n",
    "\n",
    "#Had to remake data frame to get rows to be indexed properly (0, 1, 2... etc)\n",
    "df = pd.DataFrame([df['country'].to_list(), df['area'].to_list()])\n",
    "df = df.transpose()\n",
    "df = df.rename(columns= {0: 'country', 1: 'area'})\n",
    "\n",
    "df"
   ]
  },
  {
   "cell_type": "code",
   "execution_count": 32,
   "metadata": {
    "ExecuteTime": {
     "end_time": "2020-09-07T19:13:25.885639Z",
     "start_time": "2020-09-07T19:13:25.856690Z"
    }
   },
   "outputs": [
    {
     "data": {
      "text/html": [
       "<div>\n",
       "<style scoped>\n",
       "    .dataframe tbody tr th:only-of-type {\n",
       "        vertical-align: middle;\n",
       "    }\n",
       "\n",
       "    .dataframe tbody tr th {\n",
       "        vertical-align: top;\n",
       "    }\n",
       "\n",
       "    .dataframe thead th {\n",
       "        text-align: right;\n",
       "    }\n",
       "</style>\n",
       "<table border=\"1\" class=\"dataframe\">\n",
       "  <thead>\n",
       "    <tr style=\"text-align: right;\">\n",
       "      <th></th>\n",
       "      <th>country</th>\n",
       "      <th>real GDP (billion)</th>\n",
       "    </tr>\n",
       "  </thead>\n",
       "  <tbody>\n",
       "    <tr>\n",
       "      <th>0</th>\n",
       "      <td>United States</td>\n",
       "      <td>11281.2</td>\n",
       "    </tr>\n",
       "    <tr>\n",
       "      <th>1</th>\n",
       "      <td>China</td>\n",
       "      <td>6569.87</td>\n",
       "    </tr>\n",
       "    <tr>\n",
       "      <th>2</th>\n",
       "      <td>Japan</td>\n",
       "      <td>3594.47</td>\n",
       "    </tr>\n",
       "    <tr>\n",
       "      <th>3</th>\n",
       "      <td>India</td>\n",
       "      <td>3176.52</td>\n",
       "    </tr>\n",
       "    <tr>\n",
       "      <th>4</th>\n",
       "      <td>Germany</td>\n",
       "      <td>2274.86</td>\n",
       "    </tr>\n",
       "    <tr>\n",
       "      <th>5</th>\n",
       "      <td>France</td>\n",
       "      <td>1680.18</td>\n",
       "    </tr>\n",
       "    <tr>\n",
       "      <th>6</th>\n",
       "      <td>United Kingdom</td>\n",
       "      <td>1678.87</td>\n",
       "    </tr>\n",
       "    <tr>\n",
       "      <th>7</th>\n",
       "      <td>Italy</td>\n",
       "      <td>1552.16</td>\n",
       "    </tr>\n",
       "  </tbody>\n",
       "</table>\n",
       "</div>"
      ],
      "text/plain": [
       "          country real GDP (billion)\n",
       "0   United States            11281.2\n",
       "1           China            6569.87\n",
       "2           Japan            3594.47\n",
       "3           India            3176.52\n",
       "4         Germany            2274.86\n",
       "5          France            1680.18\n",
       "6  United Kingdom            1678.87\n",
       "7           Italy            1552.16"
      ]
     },
     "execution_count": 32,
     "metadata": {},
     "output_type": "execute_result"
    }
   ],
   "source": [
    "#q21: What are the top 8 countries that have the largest real GDP?\n",
    "qry = \"\"\"    \n",
    "    SELECT country, population * \"gdp-per-capita\" / 1000000000.0\n",
    "    FROM Countries\n",
    "\"\"\"\n",
    "\n",
    "#Convert to  dataframe and rename\n",
    "df = pd.read_sql(qry, conn)\n",
    "\n",
    "df = df.sort_values(by=['population * \"gdp-per-capita\" / 1000000000.0'], ascending = False)\n",
    "\n",
    "#Had to remake data frame to get rows to be indexed properly (0, 1, 2... etc)\n",
    "df = pd.DataFrame([df['country'].to_list(), df['population * \"gdp-per-capita\" / 1000000000.0'].to_list()])\n",
    "df = df.transpose()\n",
    "df = df.rename(columns= {0: 'country', 1: 'real GDP (billion)'})\n",
    "\n",
    "df.head(8)"
   ]
  },
  {
   "cell_type": "code",
   "execution_count": 33,
   "metadata": {
    "ExecuteTime": {
     "end_time": "2020-09-07T19:13:26.069902Z",
     "start_time": "2020-09-07T19:13:25.887613Z"
    }
   },
   "outputs": [
    {
     "data": {
      "image/png": "[encoded data removed]",
      "text/plain": [
       "<Figure size 432x288 with 1 Axes>"
      ]
     },
     "metadata": {
      "needs_background": "light"
     },
     "output_type": "display_data"
    }
   ],
   "source": [
    "#q22: What are the top 8 countries that have the largest real GDP? (answer with a plot)\n",
    "\n",
    "#Split list into two\n",
    "tail_size = df[\"country\"].size - 8\n",
    "rest_frame = df.tail(tail_size)\n",
    "head_frame = df.head(8)\n",
    "\n",
    "#Get list from series\n",
    "stat_list = head_frame[\"real GDP (billion)\"].to_list()\n",
    "names_list = head_frame[\"country\"].to_list()\n",
    "\n",
    "#Add others category\n",
    "stat_list.append(rest_frame[\"real GDP (billion)\"].sum())\n",
    "names_list.append(\"others\")\n",
    "\n",
    "#Get bar plot from dataframe\n",
    "plot_series = pd.Series(stat_list, index = names_list)\n",
    "plot = plot_series.plot.bar(color=\"black\", fontsize=16)\n",
    "\n",
    "#Format plot labels\n",
    "plot.set_ylabel(\"real GDP (billion)\", fontsize=16)\n",
    "plot.set_xlabel(\"country\", fontsize=16)\n",
    "\n",
    "#Result\n",
    "result_plot = plot"
   ]
  },
  {
   "cell_type": "code",
   "execution_count": 34,
   "metadata": {
    "ExecuteTime": {
     "end_time": "2020-09-07T19:13:26.254849Z",
     "start_time": "2020-09-07T19:13:26.071662Z"
    }
   },
   "outputs": [
    {
     "data": {
      "image/png": "[encoded data removed]",
      "text/plain": [
       "<Figure size 432x288 with 1 Axes>"
      ]
     },
     "metadata": {
      "needs_background": "light"
     },
     "output_type": "display_data"
    }
   ],
   "source": [
    "#q23: What is the relationship between GDP per capita and net-migration?\n",
    "qry = \"\"\"    \n",
    "    SELECT \"net-migration\", \"gdp-per-capita\"\n",
    "    FROM Countries\n",
    "\"\"\"\n",
    "\n",
    "#Convert to  dataframe and rename\n",
    "df = pd.read_sql(qry, conn)\n",
    "df = df.sort_values(by=['gdp-per-capita'], ascending = False)\n",
    "\n",
    "#Had to remake data frame to get rows to be indexed properly (0, 1, 2... etc)\n",
    "df = pd.DataFrame([df['net-migration'].to_list(), df['gdp-per-capita'].to_list()])\n",
    "df = df.transpose()\n",
    "df = df.rename(columns= {0: 'net-migration', 1: 'gdp-per-capita'})\n",
    "\n",
    "#Make plot from dataframe\n",
    "ax = df.plot.scatter(y = 'net-migration', x = 'gdp-per-capita', color=\"black\", fontsize=16)\n",
    "ax.set_ylabel('net-migration', fontsize=16)\n",
    "ax.set_xlabel('gdp-per-capita', fontsize=16)\n",
    "\n",
    "final_plot = ax"
   ]
  },
  {
   "cell_type": "code",
   "execution_count": 35,
   "metadata": {
    "ExecuteTime": {
     "end_time": "2020-09-07T19:13:26.270842Z",
     "start_time": "2020-09-07T19:13:26.256801Z"
    }
   },
   "outputs": [
    {
     "data": {
      "text/plain": [
       "0.45232113250112843"
      ]
     },
     "execution_count": 35,
     "metadata": {},
     "output_type": "execute_result"
    }
   ],
   "source": [
    "#q24: What is the correlation between GDP per capita and net-migration?\n",
    "df.corr().loc['net-migration', 'gdp-per-capita']"
   ]
  },
  {
   "cell_type": "code",
   "execution_count": 36,
   "metadata": {
    "ExecuteTime": {
     "end_time": "2020-09-07T19:13:26.440901Z",
     "start_time": "2020-09-07T19:13:26.272833Z"
    }
   },
   "outputs": [
    {
     "data": {
      "image/png": "[encoded data removed]",
      "text/plain": [
       "<Figure size 432x288 with 1 Axes>"
      ]
     },
     "metadata": {
      "needs_background": "light"
     },
     "output_type": "display_data"
    }
   ],
   "source": [
    "#q25: What is the relationship between GDP per capita and death rates?:\n",
    "qry = \"\"\"    \n",
    "    SELECT \"death-rate\", \"gdp-per-capita\"\n",
    "    FROM Countries\n",
    "\"\"\"\n",
    "\n",
    "#Convert to  dataframe and rename\n",
    "df = pd.read_sql(qry, conn)\n",
    "df = df.sort_values(by=['gdp-per-capita'], ascending = False)\n",
    "\n",
    "#Had to remake data frame to get rows to be indexed properly (0, 1, 2... etc)\n",
    "df = pd.DataFrame([df['death-rate'].to_list(), df['gdp-per-capita'].to_list()])\n",
    "df = df.transpose()\n",
    "df = df.rename(columns= {0: 'death-rate', 1: 'gdp-per-capita'})\n",
    "\n",
    "#Make plot from dataframe\n",
    "ax = df.plot.scatter(y = 'death-rate', x = 'gdp-per-capita', color=\"black\", fontsize=16)\n",
    "ax.set_ylabel('death-rate', fontsize=16)\n",
    "ax.set_xlabel('gdp-per-capita', fontsize=16)\n",
    "\n",
    "final_plot = ax"
   ]
  },
  {
   "cell_type": "code",
   "execution_count": 37,
   "metadata": {
    "ExecuteTime": {
     "end_time": "2020-09-07T19:13:26.642330Z",
     "start_time": "2020-09-07T19:13:26.442896Z"
    }
   },
   "outputs": [
    {
     "data": {
      "image/png": "[encoded data removed]",
      "text/plain": [
       "<Figure size 432x288 with 1 Axes>"
      ]
     },
     "metadata": {
      "needs_background": "light"
     },
     "output_type": "display_data"
    }
   ],
   "source": [
    "#Q26: What is the relationship between GDP per capita and infant-mortality?\n",
    "qry = \"\"\"    \n",
    "    SELECT \"infant-mortality\", \"gdp-per-capita\"\n",
    "    FROM Countries\n",
    "\"\"\"\n",
    "\n",
    "#Convert to  dataframe and rename\n",
    "df = pd.read_sql(qry, conn)\n",
    "df = df.sort_values(by=['gdp-per-capita'], ascending = False)\n",
    "\n",
    "#Had to remake data frame to get rows to be indexed properly (0, 1, 2... etc)\n",
    "df = pd.DataFrame([df['infant-mortality'].to_list(), df['gdp-per-capita'].to_list()])\n",
    "df = df.transpose()\n",
    "df = df.rename(columns= {0: 'infant-mortality', 1: 'gdp-per-capita'})\n",
    "\n",
    "#Make plot from dataframe\n",
    "ax = df.plot.scatter(y = 'infant-mortality', x = 'gdp-per-capita', color=\"black\", fontsize=16)\n",
    "ax.set_ylabel('infant-mortality', fontsize=16)\n",
    "ax.set_xlabel('gdp-per-capita', fontsize=16)\n",
    "\n",
    "final_plot = ax"
   ]
  },
  {
   "cell_type": "code",
   "execution_count": 38,
   "metadata": {
    "ExecuteTime": {
     "end_time": "2020-09-07T19:13:26.812250Z",
     "start_time": "2020-09-07T19:13:26.644331Z"
    }
   },
   "outputs": [
    {
     "data": {
      "image/png": "[encoded data removed]",
      "text/plain": [
       "<Figure size 432x288 with 1 Axes>"
      ]
     },
     "metadata": {
      "needs_background": "light"
     },
     "output_type": "display_data"
    }
   ],
   "source": [
    "#Q27: What is the relationship between GDP per capita and inverse of infant-mortality?\n",
    "qry = \"\"\"    \n",
    "    SELECT 1 / \"infant-mortality\", \"gdp-per-capita\"\n",
    "    FROM Countries\n",
    "\"\"\"\n",
    "\n",
    "#Convert to  dataframe and rename\n",
    "df = pd.read_sql(qry, conn)\n",
    "df = df.sort_values(by=['gdp-per-capita'], ascending = False)\n",
    "\n",
    "#Had to remake data frame to get rows to be indexed properly (0, 1, 2... etc)\n",
    "df = pd.DataFrame([df['1 / \"infant-mortality\"'].to_list(), df['gdp-per-capita'].to_list()])\n",
    "df = df.transpose()\n",
    "df = df.rename(columns= {0: 'inverse', 1: 'gdp-per-capita'})\n",
    "\n",
    "#Make plot from dataframe\n",
    "ax = df.plot.scatter(y = 'inverse', x = 'gdp-per-capita', color=\"black\", fontsize=16)\n",
    "ax.set_ylabel('inverse', fontsize=16)\n",
    "ax.set_xlabel('gdp-per-capita', fontsize=16)\n",
    "\n",
    "#Closes SQL Database\n",
    "conn.close();\n",
    "\n",
    "final_plot = ax"
   ]
  },
  {
   "cell_type": "code",
   "execution_count": 39,
   "metadata": {
    "ExecuteTime": {
     "end_time": "2020-09-07T19:13:26.828206Z",
     "start_time": "2020-09-07T19:13:26.814244Z"
    }
   },
   "outputs": [],
   "source": [
    "import numpy as np"
   ]
  },
  {
   "cell_type": "code",
   "execution_count": 40,
   "metadata": {
    "ExecuteTime": {
     "end_time": "2020-09-07T19:13:26.858444Z",
     "start_time": "2020-09-07T19:13:26.830202Z"
    }
   },
   "outputs": [
    {
     "data": {
      "text/plain": [
       "(6.4829831548483e-06, 0.013237849092120849)"
      ]
     },
     "execution_count": 40,
     "metadata": {},
     "output_type": "execute_result"
    }
   ],
   "source": [
    "#q28: fit a y = m * x + n line to the scatter plot in question 27 \n",
    "#using the least-squares method; what are the coefficients m and n?\n",
    "\n",
    "#Calculate coefficents\n",
    "df[\"1\"] = 1\n",
    "res = np.linalg.lstsq(df[[\"gdp-per-capita\", \"1\"]], df[\"inverse\"], rcond=None)\n",
    "coefficients = res[0]\n",
    "m = coefficients[0]\n",
    "n = coefficients[1]\n",
    "\n",
    "#Gets tuple\n",
    "a = (m, n)\n",
    "a"
   ]
  },
  {
   "cell_type": "code",
   "execution_count": 41,
   "metadata": {
    "ExecuteTime": {
     "end_time": "2020-09-07T19:13:26.873595Z",
     "start_time": "2020-09-07T19:13:26.860396Z"
    }
   },
   "outputs": [
    {
     "data": {
      "text/plain": [
       "2.9639552790793404"
      ]
     },
     "execution_count": 41,
     "metadata": {},
     "output_type": "execute_result"
    }
   ],
   "source": [
    "#q29: When gdp-per-capita = 50000, what is the expected value for infant-mortality?\n",
    "result = 50000 * m + n\n",
    "result = 1/result\n",
    "result"
   ]
  },
  {
   "cell_type": "code",
   "execution_count": 42,
   "metadata": {
    "ExecuteTime": {
     "end_time": "2020-09-07T19:13:27.058413Z",
     "start_time": "2020-09-07T19:13:26.875589Z"
    }
   },
   "outputs": [
    {
     "data": {
      "text/plain": [
       "<matplotlib.axes._subplots.AxesSubplot at 0x12012988>"
      ]
     },
     "execution_count": 42,
     "metadata": {},
     "output_type": "execute_result"
    },
    {
     "data": {
      "image/png": "[encoded data removed]",
      "text/plain": [
       "<Figure size 432x288 with 1 Axes>"
      ]
     },
     "metadata": {
      "needs_background": "light"
     },
     "output_type": "display_data"
    }
   ],
   "source": [
    "#q30: plot the regression line to the scatter plot\n",
    "\n",
    "#Make fit line\n",
    "df[\"fit\"] = df[\"gdp-per-capita\"] * m + n\n",
    "\n",
    "#Make plot from dataframe\n",
    "ax = df.plot.scatter(y = 'inverse', x = 'gdp-per-capita', color=\"black\", fontsize=16)\n",
    "ax.set_ylabel('inverse', fontsize=16)\n",
    "ax.set_xlabel('gdp-per-capita', fontsize=16)\n",
    "\n",
    "df.plot.line(x ='gdp-per-capita', y='fit', c='red', ax=ax)"
   ]
  }
 ],
 "metadata": {
  "kernelspec": {
   "display_name": "Python 3",
   "language": "python",
   "name": "python3"
  },
  "language_info": {
   "codemirror_mode": {
    "name": "ipython",
    "version": 3
   },
   "file_extension": ".py",
   "mimetype": "text/x-python",
   "name": "python",
   "nbconvert_exporter": "python",
   "pygments_lexer": "ipython3",
   "version": "3.8.1"
  },
  "varInspector": {
   "cols": {
    "lenName": 16,
    "lenType": 16,
    "lenVar": 40
   },
   "kernels_config": {
    "python": {
     "delete_cmd_postfix": "",
     "delete_cmd_prefix": "del ",
     "library": "var_list.py",
     "varRefreshCmd": "print(var_dic_list())"
    },
    "r": {
     "delete_cmd_postfix": ") ",
     "delete_cmd_prefix": "rm(",
     "library": "var_list.r",
     "varRefreshCmd": "cat(var_dic_list()) "
    }
   },
   "types_to_exclude": [
    "module",
    "function",
    "builtin_function_or_method",
    "instance",
    "_Feature"
   ],
   "window_display": false
  }
 },
 "nbformat": 4,
 "nbformat_minor": 4
}
